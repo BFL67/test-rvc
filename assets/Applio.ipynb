{
  "cells": [
    {
      "cell_type": "markdown",
      "metadata": {
        "id": "ymhGfgFSR17k"
      },
      "source": [
        "## **Applio**\n",
        "A simple, high-quality voice conversion tool focused on ease of use and performance.\n",
        "\n",
        "[Support](https://discord.gg/urxFjYmYYh) — [GitHub](https://github.com/IAHispano/Applio) — [Terms of Use](https://github.com/IAHispano/Applio/blob/main/TERMS_OF_USE.md)\n",
        "\n",
        "<br>\n",
        "\n",
        "---\n",
        "\n",
        "<br>\n",
        "\n",
        "#### **Acknowledgments**\n",
        "\n",
        "To all external collaborators for their special help in the following areas:\n",
        "* Hina (Encryption method)\n",
        "* Poopmaster (Extra section)\n",
        "* Shirou (UV installer)\n",
        "* Bruno5430 (AutoBackup code and general notebook maintenance)\n",
        "\n",
        "#### **Disclaimer**\n",
        "By using Applio, you agree to comply with ethical and legal standards, respect intellectual property and privacy rights, avoid harmful or prohibited uses, and accept full responsibility for any outcomes, while Applio disclaims liability and reserves the right to amend these terms."
      ]
    },
    {
      "cell_type": "markdown",
      "source": [
        "### **Install Applio**\n",
        "If the runtime restarts, re-run the installation steps."
      ],
      "metadata": {
        "id": "NXXzfHi7Db-y"
      }
    },
    {
      "cell_type": "code",
      "execution_count": null,
      "metadata": {
        "cellView": "form",
        "id": "19LNv6iYqF6_"
      },
      "outputs": [],
      "source": [
        "# @title Mount Drive\n",
        "from google.colab import drive\n",
        "\n",
        "drive.mount(\"/content/drive\")"
      ]
    },
    {
      "cell_type": "code",
      "execution_count": null,
      "metadata": {
        "cellView": "form",
        "id": "vtON700qokuQ"
      },
      "outputs": [],
      "source": [
        "# @title Setup runtime environment\n",
        "from IPython.display import clear_output\n",
        "import codecs\n",
        "\n",
        "encoded_url = \"uggcf://tvguho.pbz/VNUvfcnab/Nccyvb/\"\n",
        "decoded_url = codecs.decode(encoded_url, \"rot_13\")\n",
        "\n",
        "repo_name_encoded = \"Nccyvb\"\n",
        "repo_name = codecs.decode(repo_name_encoded, \"rot_13\")\n",
        "\n",
        "LOGS_PATH = f\"/content/{repo_name}/logs\"\n",
        "BACKUPS_PATH = f\"/content/drive/MyDrive/{repo_name}Backup\"\n",
        "\n",
        "%cd /content\n",
        "!git config --global advice.detachedHead false\n",
        "!git clone --depth 1 {decoded_url} --branch 3.2.9 --single-branch\n",
        "%cd {repo_name}\n",
        "clear_output()\n",
        "\n",
        "print(\"Installing requirements...\")\n",
        "!curl -LsSf https://astral.sh/uv/install.sh | sh\n",
        "!uv pip install -q -r requirements.txt\n",
        "!uv pip install -q ngrok\n",
        "!npm install -g -q localtunnel &> /dev/null\n",
        "\n",
        "!python core.py \"prerequisites\" --models \"True\" --pretraineds_hifigan \"True\"\n",
        "print(\"✅ Finished installing requirements!\")"
      ]
    },
    {
      "cell_type": "markdown",
      "source": [
        "### **Start Applio**"
      ],
      "metadata": {
        "id": "IlM6ll0WDuOG"
      }
    },
    {
      "cell_type": "code",
      "source": [
        "# @title Enable AutoBackups\n",
        "# @markdown 💾 Run this cell to automatically Save/Load models from your mounted drive\n",
        "from pathlib import Path\n",
        "\n",
        "non_bak_folders = [\"mute\", \"reference\", \"zips\"]\n",
        "non_bak_path = \"/tmp/rvc_logs\"\n",
        "\n",
        "\n",
        "if Path(\"/content/drive\").is_mount():\n",
        "  !mkdir -p \"{BACKUPS_PATH}\"\n",
        "  !mkdir -p \"{non_bak_path}\"\n",
        "\n",
        "  for folder in non_bak_folders:\n",
        "    folder = Path(f\"{LOGS_PATH}/{folder}\")\n",
        "\n",
        "    if not folder.is_symlink():\n",
        "      !mkdir -p \"{folder.resolve()}\"\n",
        "      folder = folder.rename(f\"{non_bak_path}/{folder.name}\")\n",
        "      backup = Path(f\"{BACKUPS_PATH}/{folder.name}\")\n",
        "\n",
        "      if not backup.exists():\n",
        "        backup.symlink_to(folder, True)\n",
        "\n",
        "  if not Path(LOGS_PATH).is_symlink():\n",
        "    !mv {LOGS_PATH}/* \"{BACKUPS_PATH}\" &> /dev/null\n",
        "    !rm -r \"{LOGS_PATH}\"\n",
        "    !ln -s \"{BACKUPS_PATH}\" \"{LOGS_PATH}\"\n",
        "\n",
        "  print(\"✅ AutoBackups enabled!\")\n",
        "\n",
        "else:\n",
        "  print(\"Drive not mounted, skipping backup save/load\")"
      ],
      "metadata": {
        "cellView": "form",
        "id": "2miFQtlfiWy_"
      },
      "execution_count": null,
      "outputs": []
    },
    {
      "cell_type": "code",
      "execution_count": null,
      "metadata": {
        "cellView": "form",
        "id": "nAlXiNYnFH9F"
      },
      "outputs": [],
      "source": [
        "# @title **Start server**\n",
        "# @markdown  ### Choose a sharing method:\n",
        "from os import environ\n",
        "environ['TF_CPP_MIN_LOG_LEVEL'] = '3'\n",
        "\n",
        "method = \"gradio\"  # @param [\"gradio\", \"localtunnel\", \"ngrok\"]\n",
        "ngrok_token = \"If you selected the 'ngrok' method, obtain your auth token here: https://dashboard.ngrok.com/get-started/your-authtoken\" # @param {type:\"string\"}\n",
        "tensorboard = True #@param {type: \"boolean\"}\n",
        "\n",
        "%cd /content/{repo_name}\n",
        "if tensorboard:\n",
        "  %load_ext tensorboard\n",
        "  %tensorboard --logdir logs --bind_all\n",
        "\n",
        "match (method):\n",
        "  case 'gradio':\n",
        "    !python app.py --listen --share\n",
        "  case 'localtunnel':\n",
        "    !echo Password IP: $(curl --silent https://ipv4.icanhazip.com)\n",
        "    !lt --port 6969 & python app.py --listen\n",
        "  case 'ngrok':\n",
        "    import ngrok\n",
        "    ngrok.kill()\n",
        "    listener = await ngrok.forward(6969, authtoken=ngrok_token)\n",
        "    print(f\"Ngrok URL: {listener.url()}\")\n",
        "    !python app.py --listen"
      ]
    }
  ],
  "metadata": {
    "accelerator": "GPU",
    "colab": {
      "collapsed_sections": [
        "NXXzfHi7Db-y"
      ],
      "provenance": [],
      "private_outputs": true
    },
    "kernelspec": {
      "display_name": "Python 3",
      "name": "python3"
    },
    "language_info": {
      "name": "python"
    }
  },
  "nbformat": 4,
  "nbformat_minor": 0
}
