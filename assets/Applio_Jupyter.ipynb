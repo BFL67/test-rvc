{
 "cells": [
  {
   "cell_type": "code",
   "execution_count": 1,
   "id": "8609426a",
   "metadata": {},
   "outputs": [],
   "source": [
    "# Applio Jupyther Notebook\n",
    "# Author: iroaK (@bastianmarin)\n",
    "# Docker: >= tensorflow/tensorflow:2.9.0-gpu\n",
    "# Jupyther: >= 7.3.1\n",
    "# I probably have this booklet updated, but if there are any weird bugs, talk to me on my discord \"iroaK\". \n",
    "# Just bug fixes for the booklet. It's not for support on how to use it."
   ]
  },
  {
   "cell_type": "code",
   "execution_count": 2,
   "id": "a66e2a82-9705-4c39-a590-256d79659acf",
   "metadata": {},
   "outputs": [],
   "source": [
    "# Asignación de variables\n",
    "from IPython.display import clear_output\n",
    "INSTALL_DIR = !pwd\n",
    "INSTALL_DIR = INSTALL_DIR[0]\n",
    "MINICONDA_DIR = f\"{INSTALL_DIR}/miniconda3\"\n",
    "ENV_DIR = f\"{INSTALL_DIR}/env\"\n",
    "MINICONDA_URL = \"https://repo.anaconda.com/miniconda/Miniconda3-py310_24.7.1-0-Linux-x86_64.sh\"\n",
    "CONDA_PATH = f\"{MINICONDA_DIR}/bin/conda\""
   ]
  },
  {
   "cell_type": "code",
   "execution_count": null,
   "id": "02e084b6-deb9-45f8-bd2a-642620af41f0",
   "metadata": {},
   "outputs": [],
   "source": [
    "# Descarga e instalación de Miniconda\n",
    "import os\n",
    "if not os.path.exists(CONDA_PATH):\n",
    "    print(\"Miniconda not found. Starting download and installation...\")\n",
    "    !wget -O miniconda.sh {MINICONDA_URL}\n",
    "    !bash miniconda.sh -b -p {MINICONDA_DIR}\n",
    "    !rm miniconda.sh\n",
    "    clear_output()\n",
    "    print(\"Miniconda installation complete.\")\n",
    "else:\n",
    "    print(\"Miniconda already installed. Skipping installation.\")"
   ]
  },
  {
   "cell_type": "code",
   "execution_count": null,
   "id": "301065a9-8fc0-4a99-a430-ecb623eca16b",
   "metadata": {},
   "outputs": [],
   "source": [
    "# Creación de entorno Conda (Python 3.10)\n",
    "print(\"Creating Conda environment...\")\n",
    "!{CONDA_PATH} create --no-shortcuts -y --prefix \"{ENV_DIR}\" python=3.10\n",
    "clear_output()\n",
    "print(\"Conda environment created successfully.\")"
   ]
  },
  {
   "cell_type": "code",
   "execution_count": null,
   "id": "0de8b601-c0a3-419b-aefb-7089a39f5d73",
   "metadata": {},
   "outputs": [],
   "source": [
    "# Clonación de Applio\n",
    "!git clone https://github.com/IAHispano/Applio.git\n",
    "clear_output()\n",
    "print(\"Applio cloned successfully.\")"
   ]
  },
  {
   "cell_type": "code",
   "execution_count": null,
   "id": "37ab344d-42c1-4801-b313-e0a90e464fe0",
   "metadata": {},
   "outputs": [],
   "source": [
    "# Instalación de dependencias\n",
    "print(\"Installing dependencies...\")\n",
    "!source {MINICONDA_DIR}/bin/activate \"{ENV_DIR}\" && \\\n",
    "    pip install --upgrade pip setuptools && \\\n",
    "    pip install -r \"{INSTALL_DIR}/Applio/requirements.txt\" && \\\n",
    "    pip install torch==2.3.1 torchvision==0.18.1 torchaudio==2.3.1 --upgrade --index-url https://download.pytorch.org/whl/cu121\n",
    "!conda deactivate\n",
    "clear_output()\n",
    "print(\"Dependencies installation complete.\")"
   ]
  },
  {
   "cell_type": "code",
   "execution_count": null,
   "id": "91f199f9-daaf-4133-9ee0-b6ef12587889",
   "metadata": {},
   "outputs": [],
   "source": [
    "import threading\n",
    "\n",
    "# Iniciar Tensorboard (Puerto 6006)\n",
    "def start_tensorboard():\n",
    "    !tensorboard --logdir=\"Applio/logs\" --host=0.0.0.0 --port 6006 --load_fast=false\n",
    "tensorboard_thread = threading.Thread(target=start_tensorboard)\n",
    "tensorboard_thread.start()\n",
    "\n",
    "# Iniciar Applio (Puerto 6969)\n",
    "!cd Applio && ../env/bin/python app.py"
   ]
  }
 ],
 "metadata": {
  "kernelspec": {
   "display_name": "Python 3 (ipykernel)",
   "language": "python",
   "name": "python3"
  },
  "language_info": {
   "codemirror_mode": {
    "name": "ipython",
    "version": 3
   },
   "file_extension": ".py",
   "mimetype": "text/x-python",
   "name": "python",
   "nbconvert_exporter": "python",
   "pygments_lexer": "ipython3",
   "version": "3.8.10"
  }
 },
 "nbformat": 4,
 "nbformat_minor": 5
}
