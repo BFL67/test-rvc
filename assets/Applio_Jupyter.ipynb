{
 "cells": [
  {
   "cell_type": "code",
   "execution_count": 1,
   "id": "8609426a",
   "metadata": {},
   "outputs": [],
   "source": [
    "# Applio Jupyther Notebook\n",
    "# Author: iroaK (@bastianmarin)\n",
    "# Docker: Tensorboard 2.9.0\n",
    "# Jupyther: Any Version without Python installed"
   ]
  },
  {
   "cell_type": "code",
   "execution_count": 2,
   "id": "a66e2a82-9705-4c39-a590-256d79659acf",
   "metadata": {},
   "outputs": [],
   "source": [
    "# Asignación de variables\n",
    "from IPython.display import clear_output\n",
    "INSTALL_DIR = !pwd\n",
    "INSTALL_DIR = INSTALL_DIR[0]\n",
    "MINICONDA_DIR = f\"{INSTALL_DIR}/miniconda3\"\n",
    "ENV_DIR = f\"{INSTALL_DIR}/env\"\n",
    "MINICONDA_URL = \"https://repo.anaconda.com/miniconda/Miniconda3-py310_24.7.1-0-Linux-x86_64.sh\"\n",
    "CONDA_PATH = f\"{MINICONDA_DIR}/bin/conda\""
   ]
  },
  {
   "cell_type": "code",
   "execution_count": 3,
   "id": "02e084b6-deb9-45f8-bd2a-642620af41f0",
   "metadata": {},
   "outputs": [
    {
     "name": "stdout",
     "output_type": "stream",
     "text": [
      "Miniconda installation complete.\n"
     ]
    }
   ],
   "source": [
    "# Descarga e instalación de Miniconda\n",
    "import os\n",
    "if not os.path.exists(CONDA_PATH):\n",
    "    print(\"Miniconda not found. Starting download and installation...\")\n",
    "    !wget -O miniconda.sh {MINICONDA_URL}\n",
    "    !bash miniconda.sh -b -p {MINICONDA_DIR}\n",
    "    !rm miniconda.sh\n",
    "    clear_output()\n",
    "    print(\"Miniconda installation complete.\")\n",
    "else:\n",
    "    print(\"Miniconda already installed. Skipping installation.\")"
   ]
  },
  {
   "cell_type": "code",
   "execution_count": 4,
   "id": "301065a9-8fc0-4a99-a430-ecb623eca16b",
   "metadata": {},
   "outputs": [
    {
     "name": "stdout",
     "output_type": "stream",
     "text": [
      "Conda environment created successfully.\n"
     ]
    }
   ],
   "source": [
    "# Creación de entorno Conda (Python 3.10)\n",
    "print(\"Creating Conda environment...\")\n",
    "!{CONDA_PATH} create --no-shortcuts -y --prefix \"{ENV_DIR}\" python=3.10\n",
    "clear_output()\n",
    "print(\"Conda environment created successfully.\")"
   ]
  },
  {
   "cell_type": "code",
   "execution_count": 5,
   "id": "0de8b601-c0a3-419b-aefb-7089a39f5d73",
   "metadata": {},
   "outputs": [
    {
     "name": "stdout",
     "output_type": "stream",
     "text": [
      "Applio cloned successfully.\n"
     ]
    }
   ],
   "source": [
    "# Clonación de Applio\n",
    "!git clone https://github.com/IAHispano/Applio.git\n",
    "clear_output()\n",
    "print(\"Applio cloned successfully.\")"
   ]
  },
  {
   "cell_type": "code",
   "execution_count": 6,
   "id": "37ab344d-42c1-4801-b313-e0a90e464fe0",
   "metadata": {},
   "outputs": [
    {
     "name": "stdout",
     "output_type": "stream",
     "text": [
      "Dependencies installation complete.\n"
     ]
    }
   ],
   "source": [
    "# Instalación de dependencias\n",
    "print(\"Installing dependencies...\")\n",
    "!source {MINICONDA_DIR}/bin/activate \"{ENV_DIR}\" && \\\n",
    "    pip install --upgrade pip setuptools && \\\n",
    "    pip install -r \"{INSTALL_DIR}/Applio/requirements.txt\" && \\\n",
    "    pip install torch==2.3.1 torchvision==0.18.1 torchaudio==2.3.1 --upgrade --index-url https://download.pytorch.org/whl/cu121\n",
    "!conda deactivate\n",
    "clear_output()\n",
    "print(\"Dependencies installation complete.\")"
   ]
  },
  {
   "cell_type": "code",
   "execution_count": null,
   "id": "91f199f9-daaf-4133-9ee0-b6ef12587889",
   "metadata": {},
   "outputs": [
    {
     "name": "stdout",
     "output_type": "stream",
     "text": [
      "2024-12-12 21:19:37.697514: I tensorflow/stream_executor/cuda/cuda_gpu_executor.cc:975] successful NUMA node read from SysFS had negative value (-1), but there must be at least one NUMA node, so returning NUMA node zero\n",
      "2024-12-12 21:19:37.703381: I tensorflow/stream_executor/cuda/cuda_gpu_executor.cc:975] successful NUMA node read from SysFS had negative value (-1), but there must be at least one NUMA node, so returning NUMA node zero\n",
      "2024-12-12 21:19:37.705158: I tensorflow/stream_executor/cuda/cuda_gpu_executor.cc:975] successful NUMA node read from SysFS had negative value (-1), but there must be at least one NUMA node, so returning NUMA node zero\n",
      "TensorBoard 2.9.0 at http://0.0.0.0:6006/ (Press CTRL+C to quit)\n",
      "An error occurred connecting to Discord: Could not find Discord installed and running on this machine.\n",
      "* Running on local URL:  http://127.0.0.1:6969\n",
      "* Running on public URL: https://42d0d504e4b9d008a2.gradio.live\n",
      "\n",
      "This share link expires in 72 hours. For free permanent hosting and GPU upgrades, run `gradio deploy` from the terminal in the working directory to deploy to Hugging Face Spaces (https://huggingface.co/spaces)\n",
      "Starting training...\n",
      "Loaded pretrained (G) 'rvc/models/pretraineds/pretrained_v2/f0G32k.pth'\n"
     ]
    }
   ],
   "source": [
    "import threading\n",
    "\n",
    "# Iniciar Tensorboard (Puerto 6006)\n",
    "def start_tensorboard():\n",
    "    !tensorboard --logdir=\"Applio/logs\" --host=0.0.0.0 --port 6006 --load_fast=false\n",
    "tensorboard_thread = threading.Thread(target=start_tensorboard)\n",
    "tensorboard_thread.start()\n",
    "\n",
    "# Iniciar Applio (Puerto 6969)\n",
    "!cd Applio && ../env/bin/python app.py --share"
   ]
  },
  {
   "cell_type": "code",
   "execution_count": null,
   "id": "90d15d72-e3bd-4b96-b8fe-2b939dd7c8d8",
   "metadata": {},
   "outputs": [],
   "source": []
  }
 ],
 "metadata": {
  "kernelspec": {
   "display_name": "Python 3 (ipykernel)",
   "language": "python",
   "name": "python3"
  },
  "language_info": {
   "codemirror_mode": {
    "name": "ipython",
    "version": 3
   },
   "file_extension": ".py",
   "mimetype": "text/x-python",
   "name": "python",
   "nbconvert_exporter": "python",
   "pygments_lexer": "ipython3",
   "version": "3.8.10"
  }
 },
 "nbformat": 4,
 "nbformat_minor": 5
}
